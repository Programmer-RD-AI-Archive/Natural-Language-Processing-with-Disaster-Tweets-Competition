{
 "cells": [
  {
   "cell_type": "code",
   "execution_count": 1,
   "id": "e10ec3f7-ef41-4ace-8269-e465328d6cb1",
   "metadata": {},
   "outputs": [],
   "source": [
    "import nltk\n",
    "from nltk.stem.porter import *\n",
    "from torch.nn import *\n",
    "from torch.optim import *\n",
    "import numpy as np\n",
    "import pandas as pd\n",
    "import torch,torchvision\n",
    "import random\n",
    "from tqdm import *\n",
    "from torch.utils.data import Dataset,DataLoader\n",
    "stemmer = PorterStemmer()"
   ]
  },
  {
   "cell_type": "code",
   "execution_count": 2,
   "id": "d0481042-fd1d-4429-aab2-68374cd4faa9",
   "metadata": {},
   "outputs": [],
   "source": [
    "def tokenize(sentence):\n",
    "    return nltk.word_tokenize(sentence)"
   ]
  },
  {
   "cell_type": "code",
   "execution_count": 3,
   "id": "a64bd8ac-5eae-45dc-967a-3f05e8da015b",
   "metadata": {},
   "outputs": [
    {
     "data": {
      "text/plain": [
       "['how', 'are', 'you', 'ha', 'ha', 'haha']"
      ]
     },
     "execution_count": 3,
     "metadata": {},
     "output_type": "execute_result"
    }
   ],
   "source": [
    "tokenize('how are you ha ha haha')"
   ]
  },
  {
   "cell_type": "code",
   "execution_count": 4,
   "id": "70158d39-e75c-4676-a382-f5ac26ed7cb8",
   "metadata": {},
   "outputs": [],
   "source": [
    "def stem(word):\n",
    "    return stemmer.stem(word.lower())"
   ]
  },
  {
   "cell_type": "code",
   "execution_count": 5,
   "id": "b625b70b-6c37-4968-8e87-e72a7ab99b8e",
   "metadata": {},
   "outputs": [
    {
     "data": {
      "text/plain": [
       "'how'"
      ]
     },
     "execution_count": 5,
     "metadata": {},
     "output_type": "execute_result"
    }
   ],
   "source": [
    "stem('HOW')"
   ]
  },
  {
   "cell_type": "code",
   "execution_count": 6,
   "id": "04dd57d9-28dd-408e-b6af-3361a7762380",
   "metadata": {},
   "outputs": [],
   "source": [
    "def bag_of_words(tokenized_words,all_words):\n",
    "    tokenized_words = [stem(w) for w in tokenized_words]\n",
    "    bag = np.zeros(len(all_words),dtype=np.float32)\n",
    "    for idx,w in enumerate(all_words):\n",
    "        if w in tokenized_words:\n",
    "            bag[idx] = 1.0\n",
    "    return bag"
   ]
  },
  {
   "cell_type": "code",
   "execution_count": 7,
   "id": "6dd53507-8a0d-4b8d-a7cc-c195710aab15",
   "metadata": {},
   "outputs": [
    {
     "data": {
      "text/plain": [
       "array([0., 1., 1., 1.], dtype=float32)"
      ]
     },
     "execution_count": 7,
     "metadata": {},
     "output_type": "execute_result"
    }
   ],
   "source": [
    "bag_of_words(['how', 'are', 'you', 'ha', 'ha', 'haha'],['lol','how','are','you'])"
   ]
  },
  {
   "cell_type": "code",
   "execution_count": 8,
   "id": "ad06e84f-f4ed-4b33-bb44-5815fa179379",
   "metadata": {},
   "outputs": [],
   "source": [
    "def make_submission(model,name='test'):\n",
    "    model.eval()\n",
    "    data = pd.read_csv('./data/test.csv')\n",
    "    ids = data['id']\n",
    "    data = data['text']\n",
    "    new_data = []\n",
    "    for sentence in data:\n",
    "        bag = bag_of_words(sentence,all_words)\n",
    "        new_data.append(bag)\n",
    "    preds = model(torch.from_numpy(np.array(new_data)).to(device).float())\n",
    "    preds = torch.round(preds)\n",
    "    data = pd.DataFrame({'id':ids,'target':[int(x) for x in preds.view(-1).cpu().detach().numpy()]})\n",
    "    data.to_csv('./preds/submission.csv',index=False)\n",
    "    model.train()\n",
    "    return data"
   ]
  },
  {
   "cell_type": "code",
   "execution_count": 9,
   "id": "b1387e6e-3324-4098-8f28-e3253a37a713",
   "metadata": {},
   "outputs": [],
   "source": [
    "data = pd.read_csv('./data/train.csv')"
   ]
  },
  {
   "cell_type": "code",
   "execution_count": 10,
   "id": "7a7af2e9-872a-4fef-9460-f61694090699",
   "metadata": {},
   "outputs": [],
   "source": [
    "X = data['text']"
   ]
  },
  {
   "cell_type": "code",
   "execution_count": 11,
   "id": "3a1727ad-8ac3-45f6-b3a4-6132006509ff",
   "metadata": {},
   "outputs": [],
   "source": [
    "y = data['target']"
   ]
  },
  {
   "cell_type": "code",
   "execution_count": 12,
   "id": "a829da73-3d41-4956-9036-6f4dea387b8c",
   "metadata": {},
   "outputs": [],
   "source": [
    "all_words = []\n",
    "all_data = []\n",
    "tags = []"
   ]
  },
  {
   "cell_type": "code",
   "execution_count": 13,
   "id": "4d45fc9d-fc7e-4c76-b180-6378765244d0",
   "metadata": {},
   "outputs": [
    {
     "name": "stderr",
     "output_type": "stream",
     "text": [
      "7613it [00:02, 3026.46it/s]\n"
     ]
    }
   ],
   "source": [
    "for X_batch,y_batch in tqdm(zip(X,y)):\n",
    "    X_batch = tokenize(X_batch)\n",
    "    new_X = []\n",
    "    for X_batch_in_X_batch in X_batch:\n",
    "        new_X.append(stem(X_batch_in_X_batch))\n",
    "    all_words.extend(new_X)\n",
    "    all_data.append((new_X,y_batch))\n",
    "    tags.append(y_batch)"
   ]
  },
  {
   "cell_type": "code",
   "execution_count": 14,
   "id": "7e30fc15-2f55-45da-a674-ac69571a6ace",
   "metadata": {},
   "outputs": [],
   "source": [
    "np.random.shuffle(all_words)\n",
    "np.random.shuffle(all_data)\n",
    "np.random.shuffle(tags)"
   ]
  },
  {
   "cell_type": "code",
   "execution_count": 15,
   "id": "64651900-d901-49da-8fe1-94bbb72b26de",
   "metadata": {},
   "outputs": [],
   "source": [
    "all_words = sorted(set(all_words))"
   ]
  },
  {
   "cell_type": "code",
   "execution_count": 16,
   "id": "b03980a9-4e35-4171-b097-d23e8d42d81c",
   "metadata": {},
   "outputs": [],
   "source": [
    "tags = sorted(set(tags))"
   ]
  },
  {
   "cell_type": "code",
   "execution_count": 17,
   "id": "d72f2f47-c535-489f-8b57-d83bf043fd5c",
   "metadata": {},
   "outputs": [
    {
     "data": {
      "text/plain": [
       "[0, 1]"
      ]
     },
     "execution_count": 17,
     "metadata": {},
     "output_type": "execute_result"
    }
   ],
   "source": [
    "tags"
   ]
  },
  {
   "cell_type": "code",
   "execution_count": 18,
   "id": "3ae5a891-3f16-4ae7-b506-80d7f43fd53a",
   "metadata": {},
   "outputs": [],
   "source": [
    "np.random.shuffle(all_words)\n",
    "np.random.shuffle(all_data)\n",
    "np.random.shuffle(tags)"
   ]
  },
  {
   "cell_type": "code",
   "execution_count": 19,
   "id": "88975d77-a907-4d25-8148-b12387d4e718",
   "metadata": {},
   "outputs": [],
   "source": [
    "X = []\n",
    "y = []"
   ]
  },
  {
   "cell_type": "code",
   "execution_count": 20,
   "id": "6fc790c5-cf9f-4730-93c1-ad8923a44a54",
   "metadata": {},
   "outputs": [
    {
     "name": "stderr",
     "output_type": "stream",
     "text": [
      "100%|██████████████████████████████████████| 7613/7613 [00:26<00:00, 283.31it/s]\n"
     ]
    }
   ],
   "source": [
    "for sentence,tag in tqdm(all_data):\n",
    "    bag = bag_of_words(sentence,all_words)\n",
    "    X.append(bag)\n",
    "    y.append(tags.index(tag))"
   ]
  },
  {
   "cell_type": "code",
   "execution_count": 21,
   "id": "cdcc2a9a-53ea-487b-8861-cb86b8172107",
   "metadata": {},
   "outputs": [],
   "source": [
    "from sklearn.model_selection import *"
   ]
  },
  {
   "cell_type": "code",
   "execution_count": 22,
   "id": "d109e2ea-de45-40af-8c72-d532f200ef6c",
   "metadata": {},
   "outputs": [],
   "source": [
    "X_train,X_test,y_train,y_test = train_test_split(X,y,test_size=0.0625,shuffle=False)"
   ]
  },
  {
   "cell_type": "code",
   "execution_count": 23,
   "id": "84945340-b978-4038-8886-cba2c7f60fc5",
   "metadata": {},
   "outputs": [],
   "source": [
    "device = 'cuda'"
   ]
  },
  {
   "cell_type": "code",
   "execution_count": 24,
   "id": "f90fb4dd-8d7b-4c16-ae1a-5f5bf075defe",
   "metadata": {},
   "outputs": [],
   "source": [
    "X_train = torch.from_numpy(np.array(X_train)).to(device).float()\n",
    "X_test = torch.from_numpy(np.array(X_test)).to(device).float()\n",
    "y_train = torch.from_numpy(np.array(y_train)).to(device).float()\n",
    "y_test = torch.from_numpy(np.array(y_test)).to(device).float()"
   ]
  },
  {
   "cell_type": "code",
   "execution_count": 25,
   "id": "b3a47753-cea0-4b6c-abea-b5fc567b4192",
   "metadata": {},
   "outputs": [],
   "source": [
    "class Model(Module):\n",
    "    def __init__(self,hidden=1024,activation=ReLU,iters=10):\n",
    "        super().__init__()\n",
    "        self.activation = activation()\n",
    "        self.linear1 = Linear(len(all_words),hidden)\n",
    "        self.linear2 = Linear(hidden,hidden)\n",
    "        self.linear3 = Linear(hidden,1)\n",
    "        self.iters = iters\n",
    "    \n",
    "    def forward(self,X):\n",
    "        preds = self.activation(self.linear1(X))\n",
    "        for _ in range(self.iters):\n",
    "            preds = self.activation(self.linear2(preds))\n",
    "        preds = Sigmoid()(self.linear3(preds))\n",
    "        return preds"
   ]
  },
  {
   "cell_type": "code",
   "execution_count": 26,
   "id": "445d861e-9076-494a-af39-ab4d0df7f71c",
   "metadata": {},
   "outputs": [],
   "source": [
    "model = Model().to(device)"
   ]
  },
  {
   "cell_type": "code",
   "execution_count": 27,
   "id": "22bab38f-d136-4732-a549-2c10ac27de80",
   "metadata": {},
   "outputs": [],
   "source": [
    "criterion = BCELoss()"
   ]
  },
  {
   "cell_type": "code",
   "execution_count": 28,
   "id": "5c463a17-628f-4641-bc0d-20e29d0cf07f",
   "metadata": {},
   "outputs": [],
   "source": [
    "optimizer = Adam(model.parameters(),lr=0.001)"
   ]
  },
  {
   "cell_type": "code",
   "execution_count": 29,
   "id": "14bd06a1-625b-4af9-8af7-9a3d6b31bb5c",
   "metadata": {},
   "outputs": [],
   "source": [
    "epochs = 100"
   ]
  },
  {
   "cell_type": "code",
   "execution_count": 30,
   "id": "00e8f38a-be40-4cf2-a030-9cedabba1d7c",
   "metadata": {},
   "outputs": [],
   "source": [
    "def get_loss(model,X,y,criterion):\n",
    "    preds = model(X)\n",
    "    loss = criterion(preds.view(-1,1),y.view(-1,1))\n",
    "    return loss.item()"
   ]
  },
  {
   "cell_type": "code",
   "execution_count": 31,
   "id": "8c618e15-344c-4aef-a0db-6655c22d59f2",
   "metadata": {},
   "outputs": [],
   "source": [
    "batch_size = 8"
   ]
  },
  {
   "cell_type": "code",
   "execution_count": 32,
   "id": "e11cf424-544d-4f73-aaa2-d63c0182b431",
   "metadata": {},
   "outputs": [],
   "source": [
    "def get_accuracy(model,X,y):\n",
    "    correct = 0\n",
    "    total = 0\n",
    "    preds = model(X)\n",
    "    for pred,y_batch in zip(preds,y):\n",
    "        pred = int(torch.round(pred))\n",
    "        y_batch = int(torch.round(y_batch))\n",
    "        if pred == y_batch:\n",
    "            correct += 1\n",
    "        total += 1\n",
    "    acc = round(correct/total,3)*100\n",
    "    return acc"
   ]
  },
  {
   "cell_type": "code",
   "execution_count": 33,
   "id": "62577df5-60f1-44b0-add3-0ce8af5c4b36",
   "metadata": {},
   "outputs": [],
   "source": [
    "PROJECT_NAME = 'Natural-Language-Processing-with-Disaster-Tweets-Competition'"
   ]
  },
  {
   "cell_type": "code",
   "execution_count": 34,
   "id": "58d2706a-f299-4e9a-b6b5-5e841718c43d",
   "metadata": {},
   "outputs": [],
   "source": [
    "import wandb"
   ]
  },
  {
   "cell_type": "code",
   "execution_count": 35,
   "id": "c716d0b6-7d96-4303-95af-ecd54182920c",
   "metadata": {},
   "outputs": [
    {
     "name": "stderr",
     "output_type": "stream",
     "text": [
      "  0%|                                                   | 0/100 [00:00<?, ?it/s]"
     ]
    }
   ],
   "source": [
    "epochs_iter = tqdm(range(epochs))"
   ]
  },
  {
   "cell_type": "code",
   "execution_count": null,
   "id": "a009f9d3-864b-42c2-b9d8-8e7b91bcfb2b",
   "metadata": {},
   "outputs": [
    {
     "name": "stderr",
     "output_type": "stream",
     "text": [
      "\u001b[34m\u001b[1mwandb\u001b[0m: Currently logged in as: \u001b[33mranuga-d\u001b[0m (use `wandb login --relogin` to force relogin)\n"
     ]
    },
    {
     "data": {
      "text/html": [
       "\n",
       "                Tracking run with wandb version 0.12.1<br/>\n",
       "                Syncing run <strong style=\"color:#cdcd00\">baseline</strong> to <a href=\"https://wandb.ai\" target=\"_blank\">Weights & Biases</a> <a href=\"https://docs.wandb.com/integrations/jupyter.html\" target=\"_blank\">(Documentation)</a>.<br/>\n",
       "                Project page: <a href=\"https://wandb.ai/ranuga-d/Natural-Language-Processing-with-Disaster-Tweets-Competition\" target=\"_blank\">https://wandb.ai/ranuga-d/Natural-Language-Processing-with-Disaster-Tweets-Competition</a><br/>\n",
       "                Run page: <a href=\"https://wandb.ai/ranuga-d/Natural-Language-Processing-with-Disaster-Tweets-Competition/runs/o0zdn04b\" target=\"_blank\">https://wandb.ai/ranuga-d/Natural-Language-Processing-with-Disaster-Tweets-Competition/runs/o0zdn04b</a><br/>\n",
       "                Run data is saved locally in <code>/home/indika/Programming/Projects/Python/Artifical-Intelligence/PyTorch/NLP/Natural-Language-Processing-with-Disaster-Tweets-Competition/wandb/run-20210904_191404-o0zdn04b</code><br/><br/>\n",
       "            "
      ],
      "text/plain": [
       "<IPython.core.display.HTML object>"
      ]
     },
     "metadata": {},
     "output_type": "display_data"
    },
    {
     "name": "stderr",
     "output_type": "stream",
     "text": [
      "28/3056/:  28%|████████▉                       | 28/100 [06:14<13:52, 11.56s/it]"
     ]
    }
   ],
   "source": [
    "wandb.init(project=PROJECT_NAME,name='baseline')\n",
    "epochs_iter.set_description(f'Making-Submission')\n",
    "make_submission(model)\n",
    "for epoch in epochs_iter:\n",
    "    torch.cuda.empty_cache()\n",
    "    for idx in range(0,len(X_train),batch_size):\n",
    "        torch.cuda.empty_cache()\n",
    "        X_batch = X_train[idx:idx+batch_size].to(device).float()\n",
    "        y_batch = y_train[idx:idx+batch_size].to(device).float()\n",
    "        preds = model(X_batch)\n",
    "        loss = criterion(preds.view(-1,1),y_batch.view(-1,1))\n",
    "        optimizer.zero_grad()\n",
    "        loss.backward()\n",
    "        optimizer.step()\n",
    "        epochs_iter.set_description(f'{epoch}/{idx}/')\n",
    "    wandb.log({'Loss':(get_loss(model,X_train,y_train,criterion)+loss.item())/2})\n",
    "    wandb.log({'Val Loss':get_loss(model,X_test,y_test,criterion)})\n",
    "    wandb.log({'Acc':get_accuracy(model,X_train,y_train)})\n",
    "    wandb.log({'Val Acc':get_accuracy(model,X_test,y_test)})\n",
    "epochs_iter.set_description(f'Making-Submission')\n",
    "make_submission(model)\n",
    "wandb.finish()"
   ]
  },
  {
   "cell_type": "code",
   "execution_count": null,
   "id": "3fe5e0ca-5679-4296-ba4c-d65b4b46b7d1",
   "metadata": {},
   "outputs": [],
   "source": [
    "iters = [1,2,3,4,5,6,7,8,9,10,11,12,13,14,15]\n",
    "optimizers = [Adam,AdamX,AdamW,Adadelta,AdamX,Rprop,RMSprop,SGD]\n",
    "criterions = [L1Loss(),MSELoss(),BCELoss()]\n",
    "#\n",
    "hiddens = [64,128,256,512,1024,2048]\n",
    "activations = [ELU,LeakyReLU,PReLU,ReLU,ReLU6,RReLU,SELU,CELU,GELU,SiLU,Tanh]"
   ]
  },
  {
   "cell_type": "code",
   "execution_count": null,
   "id": "11e66ce5-2f59-493f-90d4-d42d168642b0",
   "metadata": {},
   "outputs": [],
   "source": [
    "# for hidden in hiddens:\n",
    "#     model = Model(hidden=hidden).to(device)\n",
    "#     criterion = BCELoss()\n",
    "#     optimizer = Adam(model.parameters(),lr=0.001)\n",
    "#     name = f'{hidden}-hidden'\n",
    "#     wandb.init(project=PROJECT_NAME,name=name)\n",
    "#     epochs_iter.set_description(f'Making-Submission')\n",
    "#     make_submission(model)\n",
    "#     for epoch in epochs_iter:\n",
    "#         torch.cuda.empty_cache()\n",
    "#         for idx in range(0,len(X_train),batch_size):\n",
    "#             torch.cuda.empty_cache()\n",
    "#             X_batch = X_train[idx:idx+batch_size].to(device).float()\n",
    "#             y_batch = y_train[idx:idx+batch_size].to(device).float()\n",
    "#             preds = model(X_batch)\n",
    "#             loss = criterion(preds.view(-1,1),y_batch.view(-1,1))\n",
    "#             optimizer.zero_grad()\n",
    "#             loss.backward()\n",
    "#             optimizer.step()\n",
    "#             epochs_iter.set_description(f'{epoch}/{idx}/')\n",
    "#         wandb.log({'Loss':(get_loss(model,X_train,y_train,criterion)+loss.item())/2})\n",
    "#         wandb.log({'Val Loss':get_loss(model,X_test,y_test,criterion)})\n",
    "#         wandb.log({'Acc':get_accuracy(model,X_train,y_train)})\n",
    "#         wandb.log({'Val Acc':get_accuracy(model,X_test,y_test)})\n",
    "#     epochs_iter.set_description(f'Making-Submission')\n",
    "#     make_submission(model,name)\n",
    "#     wandb.finish()"
   ]
  },
  {
   "cell_type": "code",
   "execution_count": null,
   "id": "66781275-aaa9-45e9-bd38-1872dc832d95",
   "metadata": {},
   "outputs": [],
   "source": [
    "# for activation in activations:\n",
    "#     model = Model(hidden=,activation=activation).to(device)\n",
    "#     criterion = BCELoss()\n",
    "#     optimizer = Adam(model.parameters(),lr=0.001)\n",
    "#     name = f'{activation}-activation'\n",
    "#     wandb.init(project=PROJECT_NAME,name=name)\n",
    "#     epochs_iter.set_description(f'Making-Submission')\n",
    "#     make_submission(model)\n",
    "#     for epoch in epochs_iter:\n",
    "#         torch.cuda.empty_cache()\n",
    "#         for idx in range(0,len(X_train),batch_size):\n",
    "#             torch.cuda.empty_cache()\n",
    "#             X_batch = X_train[idx:idx+batch_size].to(device).float()\n",
    "#             y_batch = y_train[idx:idx+batch_size].to(device).float()\n",
    "#             preds = model(X_batch)\n",
    "#             loss = criterion(preds.view(-1,1),y_batch.view(-1,1))\n",
    "#             optimizer.zero_grad()\n",
    "#             loss.backward()\n",
    "#             optimizer.step()\n",
    "#             epochs_iter.set_description(f'{epoch}/{idx}/')\n",
    "#         wandb.log({'Loss':(get_loss(model,X_train,y_train,criterion)+loss.item())/2})\n",
    "#         wandb.log({'Val Loss':get_loss(model,X_test,y_test,criterion)})\n",
    "#         wandb.log({'Acc':get_accuracy(model,X_train,y_train)})\n",
    "#         wandb.log({'Val Acc':get_accuracy(model,X_test,y_test)})\n",
    "#     epochs_iter.set_description(f'Making-Submission')\n",
    "#     make_submission(model,name)\n",
    "#     wandb.finish()"
   ]
  },
  {
   "cell_type": "code",
   "execution_count": null,
   "id": "06a8187f-6f12-48fc-9435-6412adfdcabb",
   "metadata": {},
   "outputs": [],
   "source": []
  }
 ],
 "metadata": {
  "kernelspec": {
   "display_name": "Python 3.7.3 64-bit ('base': conda)",
   "language": "python",
   "name": "python373jvsc74a57bd0210f9608a45c0278a93c9e0b10db32a427986ab48cfc0d20c139811eb78c4bbc"
  },
  "language_info": {
   "codemirror_mode": {
    "name": "ipython",
    "version": 3
   },
   "file_extension": ".py",
   "mimetype": "text/x-python",
   "name": "python",
   "nbconvert_exporter": "python",
   "pygments_lexer": "ipython3",
   "version": "3.7.11"
  }
 },
 "nbformat": 4,
 "nbformat_minor": 5
}
